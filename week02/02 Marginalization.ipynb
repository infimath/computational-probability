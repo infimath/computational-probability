{
 "cells": [
  {
   "cell_type": "markdown",
   "metadata": {},
   "source": [
    "MARGINALIZATION: SUMMARIZING RANDOMNESS (COURSE NOTES)\n",
    "\n",
    "Given a joint probability table, often we'll want to know what the probability table is for just one of the random variables. We can do this by just summing or “marginalizing\" out the other random variables. For example, to get the probability table for random variable $W$, we do the following:\n",
    "\n",
    "\n",
    "We take the joint probability table (left-hand side) and compute out the row sums (which we've written in the margin).\n",
    "\n",
    "The right-hand side table is the probability table pW for random variable W; we call this resulting probability distribution the marginal distribution of W (put another way, it is the distribution obtained by marginalizing out the random variables that aren't W).\n",
    "\n",
    "In terms of notation, the above marginalization procedure whereby we used the joint distribution of W and T to produce the marginal distribution of W is written:\n",
    "\n",
    "pW(w)=∑t∈TpW,T(w,t),\n",
    " \n",
    "where T is the set of values that random variable T can take on. In fact, throughout this course, we will often omit explicitly writing out the alphabet of values that a random variable takes on, e.g., writing instead\n",
    "\n",
    "pW(w)=∑tpW,T(w,t).\n",
    " \n",
    "It's clear from context that we're summing over all possible values for t, which is going to be the values that random variable T can possibly take on.\n",
    "\n",
    "As a specific example,\n",
    "\n",
    "pW(rainy)=∑tpW,T(rainy,t)=pW,T(rainy,hot)⏟1/30+pW,T(rainy,cold)⏟2/15=16.\n",
    " \n",
    "We could similarly marginalize out random variable W to get the marginal distribution pT for random variable T:\n",
    "\n",
    "\n",
    "(Note that whether we write a probability table for a single variable horizontally or vertically doesn't actually matter.)\n",
    "\n",
    "As a formula, we would write:\n",
    "\n",
    "pT(t)=∑wpW,T(w,t).\n",
    " \n",
    "For example,\n",
    "\n",
    "pT(hot)=∑wpW,T(w,hot)=pW,T(sunny,hot)⏟3/10+pW,T(rainy,hot)⏟1/30+pW,T(snowy,hot)⏟0=13.\n",
    " \n",
    "In general:\n",
    "\n",
    "Marginalization: Consider two random variables X and Y (that take on values in the sets X and Y respectively) with joint probability table pX,Y. For any x∈X, the marginal probability that X=x is given by\n",
    "\n",
    "pX(x)=∑ypX,Y(x,y).\n"
   ]
  }
 ],
 "metadata": {
  "kernelspec": {
   "display_name": "Python 3",
   "language": "python",
   "name": "python3"
  },
  "language_info": {
   "codemirror_mode": {
    "name": "ipython",
    "version": 3
   },
   "file_extension": ".py",
   "mimetype": "text/x-python",
   "name": "python",
   "nbconvert_exporter": "python",
   "pygments_lexer": "ipython3",
   "version": "3.4.3"
  }
 },
 "nbformat": 4,
 "nbformat_minor": 0
}
